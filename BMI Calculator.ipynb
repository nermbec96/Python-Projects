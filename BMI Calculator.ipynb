{
 "cells": [
  {
   "cell_type": "markdown",
   "id": "68adb7ef",
   "metadata": {},
   "source": [
    "# Body Mass Index Calculator"
   ]
  },
  {
   "cell_type": "code",
   "execution_count": 22,
   "id": "1ae2fb3e",
   "metadata": {},
   "outputs": [
    {
     "name": "stdout",
     "output_type": "stream",
     "text": [
      "Enter your name: jim\n",
      "Enter your weight in pounds: 170\n",
      "Enter your height in inches: 70\n",
      "Jim your body mass index is 24.39 you are normal weight.\n"
     ]
    }
   ],
   "source": [
    "try:\n",
    "    name = input('Enter your name: ').title()\n",
    "    weight = int(input('Enter your weight in pounds: '))\n",
    "    height = int(input('Enter your height in inches: '))\n",
    "\n",
    "    BMI = (weight * 703)/(height * height )\n",
    "\n",
    "    if BMI > 0:\n",
    "\n",
    "        if(BMI <18.5):\n",
    "             print(name,f'your body mass index is {BMI:.2f} you are underweight.')\n",
    "        elif(BMI<=24.9):\n",
    "            print(name,f'your body mass index is {BMI:.2f} you are normal weight.')\n",
    "        elif(BMI<=29.9):\n",
    "            print(name,f'your body mass index is {BMI:.2f} you are overweight.')\n",
    "        elif(BMI<=34.9):\n",
    "             print(name,f'your body mass index is {BMI:.2f} you are obese.')\n",
    "        elif(BMI<=39.9):\n",
    "            print(name,f'your body mass index is {BMI:.2f} you are severely obese.')\n",
    "        else:\n",
    "            print(name,f'your body mass index is {BMI:.2f} you are morbidy obese.')\n",
    "    else:\n",
    "        print('Enter valid value.')\n",
    "except ValueError:\n",
    "    print('Enter valid value.')"
   ]
  },
  {
   "cell_type": "code",
   "execution_count": null,
   "id": "90cd7d9d",
   "metadata": {},
   "outputs": [],
   "source": []
  }
 ],
 "metadata": {
  "kernelspec": {
   "display_name": "Python 3 (ipykernel)",
   "language": "python",
   "name": "python3"
  },
  "language_info": {
   "codemirror_mode": {
    "name": "ipython",
    "version": 3
   },
   "file_extension": ".py",
   "mimetype": "text/x-python",
   "name": "python",
   "nbconvert_exporter": "python",
   "pygments_lexer": "ipython3",
   "version": "3.9.13"
  }
 },
 "nbformat": 4,
 "nbformat_minor": 5
}
